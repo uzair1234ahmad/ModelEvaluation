{
 "cells": [
  {
   "cell_type": "markdown",
   "id": "af7d2512-b11b-4117-882f-2b148bf42ddc",
   "metadata": {},
   "source": [
    "***Task: Perform k-fold cross-validation (e.g., k=5) for your classification model and report the mean and standard deviation of the accuracy.***"
   ]
  },
  {
   "cell_type": "code",
   "execution_count": 2,
   "id": "f7187a64-a1cd-4e16-8554-201afe8f957d",
   "metadata": {},
   "outputs": [
    {
     "name": "stdout",
     "output_type": "stream",
     "text": [
      "Mean Accuracy: 0.9733\n",
      "Standard Deviation of Accuracy: 0.0249\n"
     ]
    }
   ],
   "source": [
    "from sklearn.datasets import load_iris\n",
    "from sklearn.model_selection import train_test_split, cross_val_score\n",
    "from sklearn.linear_model import LogisticRegression\n",
    "import numpy as np\n",
    "\n",
    "# Load the Iris dataset\n",
    "iris = load_iris()\n",
    "X = iris.data\n",
    "y = iris.target\n",
    "\n",
    "# Split the dataset into training and testing sets\n",
    "X_train, X_test, y_train, y_test = train_test_split(X, y, test_size=0.2, random_state=42)\n",
    "\n",
    "# Initialize the model\n",
    "model = LogisticRegression(max_iter=200)\n",
    "\n",
    "# Perform 5-fold cross-validation\n",
    "k = 5\n",
    "cv_scores = cross_val_score(model, X, y, cv=k, scoring='accuracy')\n",
    "\n",
    "# Calculate mean and standard deviation of accuracy\n",
    "mean_accuracy = np.mean(cv_scores)\n",
    "std_accuracy = np.std(cv_scores)\n",
    "\n",
    "print(f'Mean Accuracy: {mean_accuracy:.4f}')\n",
    "print(f'Standard Deviation of Accuracy: {std_accuracy:.4f}')\n",
    "\n"
   ]
  },
  {
   "cell_type": "code",
   "execution_count": null,
   "id": "7c5bbf22-3a08-4d77-97b9-3a327afb7933",
   "metadata": {},
   "outputs": [],
   "source": []
  }
 ],
 "metadata": {
  "kernelspec": {
   "display_name": "Python 3 (ipykernel)",
   "language": "python",
   "name": "python3"
  },
  "language_info": {
   "codemirror_mode": {
    "name": "ipython",
    "version": 3
   },
   "file_extension": ".py",
   "mimetype": "text/x-python",
   "name": "python",
   "nbconvert_exporter": "python",
   "pygments_lexer": "ipython3",
   "version": "3.12.3"
  }
 },
 "nbformat": 4,
 "nbformat_minor": 5
}
